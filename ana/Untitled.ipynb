{
 "cells": [
  {
   "cell_type": "code",
   "execution_count": 2,
   "id": "bb0d94cc-1f46-4640-bb3f-f05263318ed0",
   "metadata": {},
   "outputs": [
    {
     "name": "stdout",
     "output_type": "stream",
     "text": [
      "hellow, world\n"
     ]
    }
   ],
   "source": [
    "print(\"hellow, world\")"
   ]
  },
  {
   "cell_type": "code",
   "execution_count": 4,
   "id": "7adec4a8-22f0-4950-b775-b736131ac7fd",
   "metadata": {},
   "outputs": [],
   "source": [
    "#this is all about joupiter note book"
   ]
  },
  {
   "cell_type": "code",
   "execution_count": null,
   "id": "6b82bf5d-0e55-4dd7-a4a9-ccbb14fbeb3e",
   "metadata": {},
   "outputs": [],
   "source": []
  }
 ],
 "metadata": {
  "kernelspec": {
   "display_name": "Python [conda env:base] *",
   "language": "python",
   "name": "conda-base-py"
  },
  "language_info": {
   "codemirror_mode": {
    "name": "ipython",
    "version": 3
   },
   "file_extension": ".py",
   "mimetype": "text/x-python",
   "name": "python",
   "nbconvert_exporter": "python",
   "pygments_lexer": "ipython3",
   "version": "3.12.7"
  }
 },
 "nbformat": 4,
 "nbformat_minor": 5
}
